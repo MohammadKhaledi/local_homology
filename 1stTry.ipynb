{
 "cells": [
  {
   "cell_type": "code",
   "execution_count": 3,
   "metadata": {},
   "outputs": [],
   "source": [
    "import numpy as np\n",
    "import matplotlib.pyplot as plt\n",
    "import cv2\n",
    "import gudhi\n",
    "from tqdm import tqdm\n",
    "from numba import jit"
   ]
  },
  {
   "cell_type": "code",
   "execution_count": 4,
   "metadata": {},
   "outputs": [],
   "source": [
    "def number_of_b0_b1(p):\n",
    "    rips = gudhi.RipsComplex(points = p, max_edge_length = 1.5)\n",
    "    s_tree = rips.create_simplex_tree(max_dimension = 2)\n",
    "    diag = s_tree.persistence()\n",
    "    b0, b1 = 0, 0\n",
    "    for dg in diag:\n",
    "        if(dg[1][1] > 1.42):\n",
    "            if(dg[0] == 0):\n",
    "                b0 += 1\n",
    "            if(dg[0] == 1):\n",
    "                b1 += 1\n",
    "    return b0, b1"
   ]
  },
  {
   "cell_type": "code",
   "execution_count": 5,
   "metadata": {},
   "outputs": [],
   "source": [
    "@jit(forceobj=True)\n",
    "def image_to_point(X):\n",
    "    points = []\n",
    "    for i in range(X.shape[0]):\n",
    "        for j in range(X.shape[1]):\n",
    "            if(X[i, j] != 255):\n",
    "                a = np.array([i, j])\n",
    "                points.append(a)\n",
    "    points = np.array(points)\n",
    "    return points"
   ]
  },
  {
   "cell_type": "code",
   "execution_count": 137,
   "metadata": {},
   "outputs": [],
   "source": [
    "def local_merging_number(X, patches_x, patches_y, step_perc = 1, name = 'image'):\n",
    "    x_b0, x_b1 = number_of_b0_b1(image_to_point(X))\n",
    "\n",
    "    px_s = (int)(X.shape[0] / patches_x) \n",
    "    py_s = (int)(X.shape[1] / patches_y)\n",
    "    while((X.shape[0] - patches_x * px_s) >= px_s):\n",
    "      px_s += 1\n",
    "    while((X.shape[1] - patches_y * py_s) >= py_s):\n",
    "      py_s += 1\n",
    "    print(f\"{X.shape}, px_s = {px_s}, py_s = {py_s}\")\n",
    "    \n",
    "    \n",
    "    Y = np.zeros([X.shape[0], X.shape[1]]) + 255\n",
    "\n",
    "    offset = 0\n",
    "    \n",
    "    lg = np.zeros([patches_x, patches_y])\n",
    "    # olg = np.zeros([patches_x, patches_y])\n",
    "\n",
    "    step_x = (int)(step_perc * px_s)\n",
    "    step_y = (int)(step_perc *py_s)\n",
    "    i, j = 0, 0\n",
    "    pbar = tqdm(total = X.shape[0] - px_s)\n",
    "    while(i <= (X.shape[0] - px_s)):\n",
    "      while(j <= (X.shape[1] - py_s)):\n",
    "            X1 = np.zeros([X.shape[0], X.shape[1]]) + 255\n",
    "            X2 = np.zeros([X.shape[0], X.shape[1]]) + 255\n",
    "            # print(f\"({i + 1} : {i + px_s}), ({j + 1} : {j + py_s}), {offset}\")\n",
    "            X1[ (i + 1) : (i + step_x), (j + 1) : (j + py_s) ] = np.array(X[(i + 1) : (i + step_x), (j + 1) : (j + py_s)])\n",
    "            x1_b0, x1_b1 = number_of_b0_b1(image_to_point(X1[(i + 1) : (i + step_x), (j + 1) : (j + py_s)]))\n",
    "            \n",
    "            X2 = np.array(X)\n",
    "            X2[ i : (i + px_s - 1), j : (j + py_s - 1)] = 255\n",
    "            x2_b0, x2_b1 = number_of_b0_b1(image_to_point(X2))\n",
    "\n",
    "            \n",
    "            if(x2_b0 > x_b0):\n",
    "              n = (int) (i/px_s)\n",
    "              m = (int) (j/py_s)\n",
    "              lg[n, m] += abs(x2_b0 + x1_b0 - x1_b0)\n",
    "            \n",
    "            # cv2.imwrite(f\"./images/croped/{name}_X1_{offset}.png\", X1)\n",
    "            # cv2.imwrite(f\"./images/croped/{name}_X2_{offset}.png\", X2)\n",
    "            # cv2.imwrite(f\"./images/{dir}/image_X1UX2_{offset}.png\", X1_U_X2[:,:,offset])\n",
    "            offset+=1\n",
    "            j += step_y\n",
    "      j = 0\n",
    "      i += step_x\n",
    "      pbar.update(step_x)\n",
    "    pbar.close()\n",
    "    return lg"
   ]
  },
  {
   "cell_type": "code",
   "execution_count": 169,
   "metadata": {},
   "outputs": [
    {
     "data": {
      "text/plain": [
       "(200, 200)"
      ]
     },
     "execution_count": 169,
     "metadata": {},
     "output_type": "execute_result"
    }
   ],
   "source": [
    "img = cv2.imread('./images/simple_binary4.png')\n",
    "img = cv2.cvtColor(img,cv2.COLOR_BGR2GRAY)\n",
    "img.shape"
   ]
  },
  {
   "cell_type": "code",
   "execution_count": 170,
   "metadata": {},
   "outputs": [
    {
     "data": {
      "text/plain": [
       "(100, 100)"
      ]
     },
     "execution_count": 170,
     "metadata": {},
     "output_type": "execute_result"
    }
   ],
   "source": [
    "img = cv2.resize(img, [(int)(img.shape[0]/2), (int)(img.shape[1]/2)])\n",
    "img.shape"
   ]
  },
  {
   "cell_type": "code",
   "execution_count": 171,
   "metadata": {},
   "outputs": [],
   "source": [
    "ret,X = cv2.threshold(img,70,255,cv2.THRESH_BINARY)"
   ]
  },
  {
   "cell_type": "code",
   "execution_count": 172,
   "metadata": {},
   "outputs": [
    {
     "data": {
      "image/png": "[encoded data removed]",
      "text/plain": [
       "<Figure size 600x400 with 1 Axes>"
      ]
     },
     "metadata": {
      "needs_background": "light"
     },
     "output_type": "display_data"
    }
   ],
   "source": [
    "org_map = plt.cm.get_cmap('Greys')\n",
    "rev_map = org_map.reversed()\n",
    "\n",
    "fig1, ax1 = plt.subplots(dpi=100)\n",
    "ax1.axis('off')\n",
    "ax1.imshow(X, cmap=rev_map)\n",
    "fig1.savefig('./images/LM/simple_binary4.png', dpi=200);"
   ]
  },
  {
   "cell_type": "code",
   "execution_count": 175,
   "metadata": {},
   "outputs": [
    {
     "name": "stdout",
     "output_type": "stream",
     "text": [
      "(100, 100), px_s = 10, py_s = 10\n"
     ]
    },
    {
     "name": "stderr",
     "output_type": "stream",
     "text": [
      "95it [00:10,  8.96it/s]                        \n"
     ]
    }
   ],
   "source": [
    "lg_num = local_merging_number(X, 30, 30, 0.5, 'lines')"
   ]
  },
  {
   "cell_type": "code",
   "execution_count": 176,
   "metadata": {},
   "outputs": [
    {
     "data": {
      "image/png": "[encoded data removed]",
      "text/plain": [
       "<Figure size 600x400 with 2 Axes>"
      ]
     },
     "metadata": {
      "needs_background": "light"
     },
     "output_type": "display_data"
    }
   ],
   "source": [
    "fig2, ax2 = plt.subplots(dpi=100)\n",
    "fig2.suptitle(\"Local Merging Number\")\n",
    "im2 = ax2.imshow(lg_num, cmap='inferno')\n",
    "fig2.colorbar(im2)\n",
    "fig2.savefig('./images/LM/simple_binary4-lm.png', dpi=200);"
   ]
  },
  {
   "cell_type": "code",
   "execution_count": null,
   "metadata": {},
   "outputs": [],
   "source": []
  }
 ],
 "metadata": {
  "kernelspec": {
   "display_name": "Python 3",
   "language": "python",
   "name": "python3"
  },
  "language_info": {
   "codemirror_mode": {
    "name": "ipython",
    "version": 3
   },
   "file_extension": ".py",
   "mimetype": "text/x-python",
   "name": "python",
   "nbconvert_exporter": "python",
   "pygments_lexer": "ipython3",
   "version": "3.8.10"
  },
  "orig_nbformat": 4,
  "vscode": {
   "interpreter": {
    "hash": "916dbcbb3f70747c44a77c7bcd40155683ae19c65e1c03b4aa3499c5328201f1"
   }
  }
 },
 "nbformat": 4,
 "nbformat_minor": 2
}
