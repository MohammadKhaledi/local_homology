{
 "cells": [
  {
   "cell_type": "code",
   "execution_count": 25,
   "metadata": {},
   "outputs": [],
   "source": [
    "import numpy as np\n",
    "from numpy import cos, sin, pi\n",
    "import matplotlib.pyplot as plt\n",
    "from libs.XY_model import XYSystem\n",
    "import cv2\n",
    "from tqdm import tqdm"
   ]
  },
  {
   "cell_type": "code",
   "execution_count": 26,
   "metadata": {},
   "outputs": [],
   "source": [
    "def get_curl(x):    \n",
    "    N = x.shape[0]\n",
    "    curl = []\n",
    "    ux = cos(x)\n",
    "    uy = sin(x)\n",
    "    for i in range(N):\n",
    "        cu = []\n",
    "        for j in range(N):\n",
    "            c = (ux[i, j] - ux[(i+1)%N, (j+1)%N]) + (uy[(i+1)%N, j] - uy[i, (j+1)%N]) \n",
    "            c += np.sum(ux[(i-1)%N, (j-1)%N : (j+3)%N]) - \\\n",
    "                 np.sum(ux[(i+2)%N, (j-1)%N : (j+3)%N]) + \\\n",
    "                 \\\n",
    "                 np.sum(uy[(i-1)%N : (i+3)%N, (j-1)%N]) - \\\n",
    "                 np.sum(uy[(i-1)%N : (i+3)%N, (j+2)%N])\n",
    "            \n",
    "            c += np.sum(ux[(i-2)%N, (j-2)%N : (j+4)%N]) - \\\n",
    "                 np.sum(ux[(i+3)%N, (j-2)%N : (j+4)%N]) + \\\n",
    "                 \\\n",
    "                 np.sum(uy[(i-2)%N : (i+4)%N, (j-2)%N]) - \\\n",
    "                 np.sum(uy[(i-2)%N : (i+4)%N, (j+3)%N])\n",
    "                 \n",
    "          #   c += np.sum(ux[(i-3)%N, (j-3)%N : (j+5)%N]) - \\\n",
    "          #        np.sum(ux[(i+4)%N, (j-3)%N : (j+5)%N]) + \\\n",
    "          #        \\\n",
    "          #        np.sum(uy[(i-3)%N : (i+5)%N, (j-3)%N]) - \\\n",
    "          #        np.sum(uy[(i-3)%N : (i+5)%N, (j+4)%N]) / 49\n",
    "            cu.append(c)\n",
    "        curl.append(cu)\n",
    "             \n",
    "    curl = np.array(curl)\n",
    "    curl /= np.sum(curl)\n",
    "    return curl"
   ]
  },
  {
   "cell_type": "code",
   "execution_count": 27,
   "metadata": {},
   "outputs": [],
   "source": [
    "def list2matrix(S):\n",
    "        N=int(np.size(S))\n",
    "        L = int(np.sqrt(N))\n",
    "        S=np.reshape(S,(L,L))\n",
    "        return S"
   ]
  },
  {
   "cell_type": "code",
   "execution_count": 28,
   "metadata": {},
   "outputs": [],
   "source": [
    "def plot_heatmap(spin_config, curl, temp, name = 'result', heat = True, just_heat = False, spin = False):\n",
    "    N = spin_config.shape[0]\n",
    "    X, Y = np.meshgrid(np.arange(0,N),np.arange(0, N))\n",
    "    U = np.cos(spin_config)\n",
    "    V = np.sin(spin_config)\n",
    "    plt.figure(figsize=(4,4),dpi=600, facecolor='white')\n",
    "    if(heat):\n",
    "        plt.imshow(curl)\n",
    "        plt.colorbar()\n",
    "    if(just_heat):\n",
    "        plt.imshow(curl)\n",
    "        plt.colorbar()\n",
    "        plt.savefig(f'./images/{name}.png', dpi = 600)\n",
    "        plt.close()\n",
    "        return\n",
    "    if(spin):\n",
    "        plt.imshow(U)\n",
    "        plt.colorbar()\n",
    "    Q = plt.quiver(X, Y, U, V, units='width')\n",
    "    qk = plt.quiverkey(Q, 0.1, 0.1, 1, r'$spin$', labelpos='E',\n",
    "                coordinates='figure')\n",
    "    plt.title('T=%.2f'%temp+', #spins='+str(N)+'x'+str(N))\n",
    "    plt.savefig(f'./images/{name}.png', dpi = 600)\n",
    "    plt.close()"
   ]
  },
  {
   "cell_type": "code",
   "execution_count": 29,
   "metadata": {},
   "outputs": [],
   "source": [
    "temp = [0.01]\n",
    "N = [128]"
   ]
  },
  {
   "cell_type": "code",
   "execution_count": 30,
   "metadata": {},
   "outputs": [
    {
     "name": "stderr",
     "output_type": "stream",
     "text": [
      "  0%|          | 0/1 [00:00<?, ?it/s]"
     ]
    },
    {
     "name": "stdout",
     "output_type": "stream",
     "text": [
      "\n",
      "equilibrium state is reached at T=0.0\n",
      "#sweep=501\n",
      "energy=-1.90\n"
     ]
    },
    {
     "name": "stderr",
     "output_type": "stream",
     "text": [
      "  0%|          | 0/1 [05:17<?, ?it/s]"
     ]
    },
    {
     "name": "stdout",
     "output_type": "stream",
     "text": [
      "\n",
      "equilibrium state is reached at T=0.1\n",
      "#sweep=501\n",
      "energy=-1.90\n"
     ]
    },
    {
     "name": "stderr",
     "output_type": "stream",
     "text": [
      "\n"
     ]
    },
    {
     "ename": "KeyboardInterrupt",
     "evalue": "",
     "output_type": "error",
     "traceback": [
      "\u001b[1;31m---------------------------------------------------------------------------\u001b[0m",
      "\u001b[1;31mKeyboardInterrupt\u001b[0m                         Traceback (most recent call last)",
      "Cell \u001b[1;32mIn[30], line 6\u001b[0m\n\u001b[0;32m      4\u001b[0m xy1\u001b[39m.\u001b[39mequilibrate(show\u001b[39m=\u001b[39m\u001b[39mFalse\u001b[39;00m)\n\u001b[0;32m      5\u001b[0m x \u001b[39m=\u001b[39m list2matrix(xy1\u001b[39m.\u001b[39mspin_config)\n\u001b[1;32m----> 6\u001b[0m cu \u001b[39m=\u001b[39m get_curl(x)\n\u001b[0;32m      7\u001b[0m plot_heatmap(x, cu, temp[i], \u001b[39mf\u001b[39m\u001b[39m'\u001b[39m\u001b[39mmix3_\u001b[39m\u001b[39m{\u001b[39;00mtemp[i]\u001b[39m}\u001b[39;00m\u001b[39m_\u001b[39m\u001b[39m{\u001b[39;00mN[n]\u001b[39m}\u001b[39;00m\u001b[39m'\u001b[39m)\n\u001b[0;32m      8\u001b[0m \u001b[39m# plot_heatmap(x, cu, temp[i], f'vec_{temp[i]}_{N[n]}', False)\u001b[39;00m\n\u001b[0;32m      9\u001b[0m \u001b[39m# plot_heatmap(x, cu, temp[i], f'curl_{temp[i]}_{N[n]}', False, True)\u001b[39;00m\n\u001b[0;32m     10\u001b[0m \u001b[39m# plot_heatmap(x, cu, temp[i], f'cos_{temp[i]}_{N[n]}', False, False, True)\u001b[39;00m\n",
      "Cell \u001b[1;32mIn[26], line 10\u001b[0m, in \u001b[0;36mget_curl\u001b[1;34m(x)\u001b[0m\n\u001b[0;32m      8\u001b[0m \u001b[39mfor\u001b[39;00m j \u001b[39min\u001b[39;00m \u001b[39mrange\u001b[39m(N):\n\u001b[0;32m      9\u001b[0m     c \u001b[39m=\u001b[39m (ux[i, j] \u001b[39m-\u001b[39m ux[(i\u001b[39m+\u001b[39m\u001b[39m1\u001b[39m)\u001b[39m%\u001b[39mN, (j\u001b[39m+\u001b[39m\u001b[39m1\u001b[39m)\u001b[39m%\u001b[39mN]) \u001b[39m+\u001b[39m (uy[(i\u001b[39m+\u001b[39m\u001b[39m1\u001b[39m)\u001b[39m%\u001b[39mN, j] \u001b[39m-\u001b[39m uy[i, (j\u001b[39m+\u001b[39m\u001b[39m1\u001b[39m)\u001b[39m%\u001b[39mN]) \n\u001b[1;32m---> 10\u001b[0m     c \u001b[39m+\u001b[39m\u001b[39m=\u001b[39m np\u001b[39m.\u001b[39;49msum(ux[(i\u001b[39m-\u001b[39;49m\u001b[39m1\u001b[39;49m)\u001b[39m%\u001b[39;49mN, (j\u001b[39m-\u001b[39;49m\u001b[39m1\u001b[39;49m)\u001b[39m%\u001b[39;49mN : (j\u001b[39m+\u001b[39;49m\u001b[39m3\u001b[39;49m)\u001b[39m%\u001b[39;49mN]) \u001b[39m-\u001b[39m \\\n\u001b[0;32m     11\u001b[0m          np\u001b[39m.\u001b[39msum(ux[(i\u001b[39m+\u001b[39m\u001b[39m2\u001b[39m)\u001b[39m%\u001b[39mN, (j\u001b[39m-\u001b[39m\u001b[39m1\u001b[39m)\u001b[39m%\u001b[39mN : (j\u001b[39m+\u001b[39m\u001b[39m3\u001b[39m)\u001b[39m%\u001b[39mN]) \u001b[39m+\u001b[39m \\\n\u001b[0;32m     12\u001b[0m          \\\n\u001b[0;32m     13\u001b[0m          np\u001b[39m.\u001b[39msum(uy[(i\u001b[39m-\u001b[39m\u001b[39m1\u001b[39m)\u001b[39m%\u001b[39mN : (i\u001b[39m+\u001b[39m\u001b[39m3\u001b[39m)\u001b[39m%\u001b[39mN, (j\u001b[39m-\u001b[39m\u001b[39m1\u001b[39m)\u001b[39m%\u001b[39mN]) \u001b[39m-\u001b[39m \\\n\u001b[0;32m     14\u001b[0m          np\u001b[39m.\u001b[39msum(uy[(i\u001b[39m-\u001b[39m\u001b[39m1\u001b[39m)\u001b[39m%\u001b[39mN : (i\u001b[39m+\u001b[39m\u001b[39m3\u001b[39m)\u001b[39m%\u001b[39mN, (j\u001b[39m+\u001b[39m\u001b[39m2\u001b[39m)\u001b[39m%\u001b[39mN]) \u001b[39m/\u001b[39m \u001b[39m9\u001b[39m\n\u001b[0;32m     16\u001b[0m     c \u001b[39m+\u001b[39m\u001b[39m=\u001b[39m np\u001b[39m.\u001b[39msum(ux[(i\u001b[39m-\u001b[39m\u001b[39m2\u001b[39m)\u001b[39m%\u001b[39mN, (j\u001b[39m-\u001b[39m\u001b[39m2\u001b[39m)\u001b[39m%\u001b[39mN : (j\u001b[39m+\u001b[39m\u001b[39m4\u001b[39m)\u001b[39m%\u001b[39mN]) \u001b[39m-\u001b[39m \\\n\u001b[0;32m     17\u001b[0m          np\u001b[39m.\u001b[39msum(ux[(i\u001b[39m+\u001b[39m\u001b[39m3\u001b[39m)\u001b[39m%\u001b[39mN, (j\u001b[39m-\u001b[39m\u001b[39m2\u001b[39m)\u001b[39m%\u001b[39mN : (j\u001b[39m+\u001b[39m\u001b[39m4\u001b[39m)\u001b[39m%\u001b[39mN]) \u001b[39m+\u001b[39m \\\n\u001b[0;32m     18\u001b[0m          \\\n\u001b[0;32m     19\u001b[0m          np\u001b[39m.\u001b[39msum(uy[(i\u001b[39m-\u001b[39m\u001b[39m2\u001b[39m)\u001b[39m%\u001b[39mN : (i\u001b[39m+\u001b[39m\u001b[39m4\u001b[39m)\u001b[39m%\u001b[39mN, (j\u001b[39m-\u001b[39m\u001b[39m2\u001b[39m)\u001b[39m%\u001b[39mN]) \u001b[39m-\u001b[39m \\\n\u001b[0;32m     20\u001b[0m          np\u001b[39m.\u001b[39msum(uy[(i\u001b[39m-\u001b[39m\u001b[39m2\u001b[39m)\u001b[39m%\u001b[39mN : (i\u001b[39m+\u001b[39m\u001b[39m4\u001b[39m)\u001b[39m%\u001b[39mN, (j\u001b[39m+\u001b[39m\u001b[39m3\u001b[39m)\u001b[39m%\u001b[39mN]) \u001b[39m/\u001b[39m \u001b[39m25\u001b[39m\n\u001b[0;32m     22\u001b[0m   \u001b[39m#   c += np.sum(ux[(i-3)%N, (j-3)%N : (j+5)%N]) - \\\u001b[39;00m\n\u001b[0;32m     23\u001b[0m   \u001b[39m#        np.sum(ux[(i+4)%N, (j-3)%N : (j+5)%N]) + \\\u001b[39;00m\n\u001b[0;32m     24\u001b[0m   \u001b[39m#        \\\u001b[39;00m\n\u001b[0;32m     25\u001b[0m   \u001b[39m#        np.sum(uy[(i-3)%N : (i+5)%N, (j-3)%N]) - \\\u001b[39;00m\n\u001b[0;32m     26\u001b[0m   \u001b[39m#        np.sum(uy[(i-3)%N : (i+5)%N, (j+4)%N]) / 49\u001b[39;00m\n",
      "File \u001b[1;32m<__array_function__ internals>:200\u001b[0m, in \u001b[0;36msum\u001b[1;34m(*args, **kwargs)\u001b[0m\n",
      "File \u001b[1;32mc:\\Users\\almahdi laptop\\AppData\\Local\\Programs\\Python\\Python311\\Lib\\site-packages\\numpy\\core\\fromnumeric.py:2188\u001b[0m, in \u001b[0;36msum\u001b[1;34m(a, axis, dtype, out, keepdims, initial, where)\u001b[0m\n\u001b[0;32m   2183\u001b[0m \u001b[39mdef\u001b[39;00m \u001b[39m_sum_dispatcher\u001b[39m(a, axis\u001b[39m=\u001b[39m\u001b[39mNone\u001b[39;00m, dtype\u001b[39m=\u001b[39m\u001b[39mNone\u001b[39;00m, out\u001b[39m=\u001b[39m\u001b[39mNone\u001b[39;00m, keepdims\u001b[39m=\u001b[39m\u001b[39mNone\u001b[39;00m,\n\u001b[0;32m   2184\u001b[0m                     initial\u001b[39m=\u001b[39m\u001b[39mNone\u001b[39;00m, where\u001b[39m=\u001b[39m\u001b[39mNone\u001b[39;00m):\n\u001b[0;32m   2185\u001b[0m     \u001b[39mreturn\u001b[39;00m (a, out)\n\u001b[1;32m-> 2188\u001b[0m \u001b[39m@array_function_dispatch\u001b[39m(_sum_dispatcher)\n\u001b[0;32m   2189\u001b[0m \u001b[39mdef\u001b[39;00m \u001b[39msum\u001b[39m(a, axis\u001b[39m=\u001b[39m\u001b[39mNone\u001b[39;00m, dtype\u001b[39m=\u001b[39m\u001b[39mNone\u001b[39;00m, out\u001b[39m=\u001b[39m\u001b[39mNone\u001b[39;00m, keepdims\u001b[39m=\u001b[39mnp\u001b[39m.\u001b[39m_NoValue,\n\u001b[0;32m   2190\u001b[0m         initial\u001b[39m=\u001b[39mnp\u001b[39m.\u001b[39m_NoValue, where\u001b[39m=\u001b[39mnp\u001b[39m.\u001b[39m_NoValue):\n\u001b[0;32m   2191\u001b[0m \u001b[39m    \u001b[39m\u001b[39m\"\"\"\u001b[39;00m\n\u001b[0;32m   2192\u001b[0m \u001b[39m    Sum of array elements over a given axis.\u001b[39;00m\n\u001b[0;32m   2193\u001b[0m \n\u001b[1;32m   (...)\u001b[0m\n\u001b[0;32m   2309\u001b[0m \u001b[39m    15\u001b[39;00m\n\u001b[0;32m   2310\u001b[0m \u001b[39m    \"\"\"\u001b[39;00m\n\u001b[0;32m   2311\u001b[0m     \u001b[39mif\u001b[39;00m \u001b[39misinstance\u001b[39m(a, _gentype):\n\u001b[0;32m   2312\u001b[0m         \u001b[39m# 2018-02-25, 1.15.0\u001b[39;00m\n",
      "\u001b[1;31mKeyboardInterrupt\u001b[0m: "
     ]
    }
   ],
   "source": [
    "for n in tqdm(range(len(N))):    \n",
    "    for i in range(len(temp)):\n",
    "        xy1 = XYSystem(temperature = temp[i], width = N[n])\n",
    "        xy1.equilibrate(show=False)\n",
    "        x = list2matrix(xy1.spin_config)\n",
    "        cu = get_curl(x)\n",
    "        plot_heatmap(x, cu, temp[i], f'mix3_{temp[i]}_{N[n]}')\n",
    "        # plot_heatmap(x, cu, temp[i], f'vec_{temp[i]}_{N[n]}', False)\n",
    "        # plot_heatmap(x, cu, temp[i], f'curl_{temp[i]}_{N[n]}', False, True)\n",
    "        # plot_heatmap(x, cu, temp[i], f'cos_{temp[i]}_{N[n]}', False, False, True)"
   ]
  },
  {
   "cell_type": "code",
   "execution_count": null,
   "metadata": {},
   "outputs": [],
   "source": []
  }
 ],
 "metadata": {
  "kernelspec": {
   "display_name": "Python 3",
   "language": "python",
   "name": "python3"
  },
  "language_info": {
   "codemirror_mode": {
    "name": "ipython",
    "version": 3
   },
   "file_extension": ".py",
   "mimetype": "text/x-python",
   "name": "python",
   "nbconvert_exporter": "python",
   "pygments_lexer": "ipython3",
   "version": "3.11.3"
  },
  "orig_nbformat": 4,
  "vscode": {
   "interpreter": {
    "hash": "916dbcbb3f70747c44a77c7bcd40155683ae19c65e1c03b4aa3499c5328201f1"
   }
  }
 },
 "nbformat": 4,
 "nbformat_minor": 2
}
