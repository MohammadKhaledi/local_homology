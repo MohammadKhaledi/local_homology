{
 "cells": [
  {
   "cell_type": "code",
   "execution_count": 12,
   "metadata": {},
   "outputs": [],
   "source": [
    "import numpy as np\n",
    "import matplotlib.pyplot as plt\n",
    "import cv2\n",
    "import gudhi\n",
    "from tqdm import tqdm\n",
    "from libs.XY_model import XYSystem"
   ]
  },
  {
   "cell_type": "code",
   "execution_count": 7,
   "metadata": {},
   "outputs": [],
   "source": [
    "def number_of_b0_b1(p):\n",
    "    rips = gudhi.RipsComplex(points = p, max_edge_length = 2)\n",
    "    s_tree = rips.create_simplex_tree(max_dimension = 2)\n",
    "    diag = s_tree.persistence()\n",
    "    b0, b1 = 0, 0\n",
    "    for dg in diag:\n",
    "        if(dg[1][1] >= 1.42 or dg[1][1] == np.inf):\n",
    "            if(dg[0] == 0):\n",
    "                b0 += 1\n",
    "            if(dg[0] == 1):\n",
    "                b1 += 1\n",
    "    return b0, b1"
   ]
  },
  {
   "cell_type": "code",
   "execution_count": 8,
   "metadata": {},
   "outputs": [],
   "source": [
    "def image_to_point(X):\n",
    "    points = []\n",
    "    for i in range(X.shape[0]):\n",
    "        for j in range(X.shape[1]):\n",
    "            if(X[i, j] == 0):\n",
    "                a = np.array([i, j])\n",
    "                points.append(a)\n",
    "    points = np.array(points)\n",
    "    return points"
   ]
  },
  {
   "cell_type": "code",
   "execution_count": 9,
   "metadata": {},
   "outputs": [],
   "source": [
    "def local_merging_number(X, patches_x, patches_y, dir):\n",
    "    x_b0, x_b1 = number_of_b0_b1(image_to_point(X))\n",
    "    px_size = (int)(X.shape[0] / patches_x)\n",
    "    py_size = (int)(X.shape[1] / patches_y)\n",
    "    X1 = np.zeros([X.shape[0], X.shape[1], patches_x*patches_y]) + 255\n",
    "    X2 = np.zeros([X.shape[0], X.shape[1], patches_x*patches_y]) + 255\n",
    "    X1_U_X2 = np.zeros([X.shape[0], X.shape[1], patches_x*patches_y])\n",
    "    i, j = 0, 0\n",
    "    n, m = 0, 0\n",
    "    offset = 0\n",
    "    lg = np.zeros([patches_x, patches_y])\n",
    "    pbar = tqdm(total= patches_x*patches_y)\n",
    "    while( (i+px_size) <= X.shape[0]):\n",
    "        while( (j+py_size) <= X.shape[1]):\n",
    "            # print(f\"patch {offset} , px = {i+1}:{i+px_size}, py = {j+1}:{j+py_size}\")\n",
    "            X1[i+1:i+px_size-1, j+1:j+py_size-1, offset] = np.array(X[i+1:i+px_size-1, j+1:j+py_size-1])\n",
    "            x1_b0, x1_b1 = number_of_b0_b1(image_to_point(X1[:, :,offset]))\n",
    "\n",
    "            X2[:, :, offset] = X\n",
    "            X2[i:i+px_size, j:j+py_size, offset] = 255\n",
    "            x2_b0, x2_b1 = number_of_b0_b1(image_to_point(X2[:, :, offset]))\n",
    "            \n",
    "            lg[n, m] += (x2_b0 - x_b0 + x1_b0)\n",
    "\n",
    "            X1_U_X2[:, :, offset] = X\n",
    "            X1_U_X2[i:i+px_size, j:j+py_size+1, offset] = 255 \n",
    "            X1_U_X2[i+1:i+px_size-1, j+1:j+py_size-1, offset] = X1[i+1:i+px_size-1, j+1:j+py_size-1, offset] \n",
    "\n",
    "            cv2.imwrite(f\"./images/{dir}/image_X1_{offset}.png\", X1[:,:,offset])\n",
    "            cv2.imwrite(f\"./images/{dir}/image_X2_{offset}.png\", X2[:,:,offset])\n",
    "            cv2.imwrite(f\"./images/{dir}/image_X1UX2_{offset}.png\", X1_U_X2[:,:,offset])\n",
    "            offset += 1\n",
    "            j += py_size\n",
    "            m += 1\n",
    "            pbar.update(1)\n",
    "        j = 0\n",
    "        i += px_size\n",
    "        m = 0\n",
    "        n += 1\n",
    "    pbar.close()\n",
    "    return lg, X1, X2, X1_U_X2"
   ]
  },
  {
   "cell_type": "code",
   "execution_count": null,
   "metadata": {},
   "outputs": [],
   "source": []
  }
 ],
 "metadata": {
  "kernelspec": {
   "display_name": "Python 3",
   "language": "python",
   "name": "python3"
  },
  "language_info": {
   "codemirror_mode": {
    "name": "ipython",
    "version": 3
   },
   "file_extension": ".py",
   "mimetype": "text/x-python",
   "name": "python",
   "nbconvert_exporter": "python",
   "pygments_lexer": "ipython3",
   "version": "3.8.10"
  },
  "orig_nbformat": 4,
  "vscode": {
   "interpreter": {
    "hash": "916dbcbb3f70747c44a77c7bcd40155683ae19c65e1c03b4aa3499c5328201f1"
   }
  }
 },
 "nbformat": 4,
 "nbformat_minor": 2
}
