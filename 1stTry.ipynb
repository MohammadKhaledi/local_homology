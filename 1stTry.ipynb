{
 "cells": [
  {
   "cell_type": "code",
   "execution_count": 1,
   "metadata": {},
   "outputs": [],
   "source": [
    "import numpy as np\n",
    "import matplotlib.pyplot as plt\n",
    "import cv2\n",
    "import gudhi\n",
    "from tqdm import tqdm\n",
    "from numba import jit"
   ]
  },
  {
   "cell_type": "code",
   "execution_count": 2,
   "metadata": {},
   "outputs": [],
   "source": [
    "def number_of_b0_b1(p):\n",
    "    rips = gudhi.RipsComplex(points = p, max_edge_length = 1.5)\n",
    "    s_tree = rips.create_simplex_tree(max_dimension = 2)\n",
    "    diag = s_tree.persistence()\n",
    "    b0, b1 = 0, 0\n",
    "    for dg in diag:\n",
    "        if(dg[1][1] > 1.42):\n",
    "            if(dg[0] == 0):\n",
    "                b0 += 1\n",
    "            if(dg[0] == 1):\n",
    "                b1 += 1\n",
    "    return b0, b1, diag"
   ]
  },
  {
   "cell_type": "code",
   "execution_count": 3,
   "metadata": {},
   "outputs": [],
   "source": [
    "@jit(forceobj=True)\n",
    "def image_to_point(X):\n",
    "    points = []\n",
    "    for i in range(X.shape[0]):\n",
    "        for j in range(X.shape[1]):\n",
    "            if(X[i, j] != 255):\n",
    "                a = np.array([i, j])\n",
    "                points.append(a)\n",
    "    points = np.array(points)\n",
    "    return points"
   ]
  },
  {
   "cell_type": "code",
   "execution_count": 4,
   "metadata": {},
   "outputs": [],
   "source": [
    "def local_merging_number(X, patches_x, patches_y, step_perc = 0.5, thresh = 1):\n",
    "    x_b0, x_b1, dg = number_of_b0_b1(image_to_point(X))\n",
    "\n",
    "    px_s = (int)(X.shape[0] / patches_x) \n",
    "    py_s = (int)(X.shape[1] / patches_y)\n",
    "    while((X.shape[0] - patches_x * px_s) >= px_s):\n",
    "      px_s += 1\n",
    "    while((X.shape[1] - patches_y * py_s) >= py_s):\n",
    "      py_s += 1\n",
    "    print(f\"{X.shape}, px_s = {px_s}, py_s = {py_s}\")\n",
    "    \n",
    "    \n",
    "    Y = np.zeros([X.shape[0], X.shape[1]]) + 255\n",
    "\n",
    "    offset = 0\n",
    "    \n",
    "    lg = np.zeros([patches_x, patches_y])\n",
    "    olg = np.zeros([patches_x, patches_y])\n",
    "\n",
    "    step_x = (int)(step_perc * px_s)\n",
    "    step_y = (int)(step_perc *py_s)\n",
    "    i, j = 0, 0\n",
    "    pbar = tqdm(total = X.shape[0] - px_s)\n",
    "    while(i < (X.shape[0] - px_s)):\n",
    "      while(j < (X.shape[1] - py_s)):\n",
    "        X1 = np.zeros([X.shape[0], X.shape[1]]) + 255\n",
    "        X2 = np.zeros([X.shape[0], X.shape[1]]) + 255\n",
    "        # print(f\"({i + 1} : {i + px_s}), ({j + 1} : {j + py_s}), {offset}\")\n",
    "        X1[ (i + 1) : (i + step_x), (j + 1) : (j + py_s) ] = np.array(X[(i + 1) : (i + step_x), (j + 1) : (j + py_s)])\n",
    "        x1_b0, x1_b1, dg = number_of_b0_b1(image_to_point(X1[(i + 1) : (i + step_x), (j + 1) : (j + py_s)]))\n",
    "\n",
    "        X2 = np.array(X)\n",
    "        X2[ i : (i + px_s - 1), j : (j + py_s - 1)] = 255\n",
    "        x2_b0, x2_b1, dg = number_of_b0_b1(image_to_point(X2))\n",
    "\n",
    "        if((x1_b1 != 0) or (x2_b1 < x_b1)):\n",
    "          n = (int) (i/px_s)\n",
    "          m = (int) (j/py_s)\n",
    "          olg[n, m] += (x1_b1 + x2_b1)\n",
    "          Y[i : (i + px_s - 1), j : (j + py_s - 1) ] = np.array(X[i : (i + px_s - 1), j : (j + py_s - 1) ])\n",
    "\n",
    "        offset+=1\n",
    "        j += step_y\n",
    "      j = 0\n",
    "      i += step_x\n",
    "      pbar.update(step_x)\n",
    "    pbar.close()\n",
    "    return lg,olg, Y"
   ]
  },
  {
   "cell_type": "code",
   "execution_count": 42,
   "metadata": {},
   "outputs": [],
   "source": [
    "img = cv2.imread('./images/qr3.png')\n",
    "img = cv2.cvtColor(img,cv2.COLOR_BGR2GRAY)"
   ]
  },
  {
   "cell_type": "code",
   "execution_count": 43,
   "metadata": {},
   "outputs": [],
   "source": [
    "orig_map = plt.cm.get_cmap('Greys')\n",
    "rev_map = orig_map.reversed()"
   ]
  },
  {
   "cell_type": "code",
   "execution_count": 44,
   "metadata": {},
   "outputs": [
    {
     "data": {
      "text/plain": [
       "(928, 928)"
      ]
     },
     "execution_count": 44,
     "metadata": {},
     "output_type": "execute_result"
    }
   ],
   "source": [
    "img.shape"
   ]
  },
  {
   "cell_type": "code",
   "execution_count": 45,
   "metadata": {},
   "outputs": [
    {
     "data": {
      "text/plain": [
       "(928, 928)"
      ]
     },
     "execution_count": 45,
     "metadata": {},
     "output_type": "execute_result"
    }
   ],
   "source": [
    "# X = np.array(img[370:1530, 370:1230])\n",
    "X = np.array(img)\n",
    "X.shape"
   ]
  },
  {
   "cell_type": "code",
   "execution_count": 46,
   "metadata": {},
   "outputs": [
    {
     "data": {
      "text/plain": [
       "(103, 103)"
      ]
     },
     "execution_count": 46,
     "metadata": {},
     "output_type": "execute_result"
    }
   ],
   "source": [
    "X = cv2.resize(X, [(int)(X.shape[0]/9), (int)(X.shape[1]/9)])\n",
    "X.shape"
   ]
  },
  {
   "cell_type": "code",
   "execution_count": 47,
   "metadata": {},
   "outputs": [],
   "source": [
    "ret,X_ = cv2.threshold(X,70,255,cv2.THRESH_BINARY)"
   ]
  },
  {
   "cell_type": "code",
   "execution_count": 48,
   "metadata": {},
   "outputs": [
    {
     "data": {
      "image/png": "[encoded data removed]",
      "text/plain": [
       "<Figure size 600x400 with 1 Axes>"
      ]
     },
     "metadata": {
      "needs_background": "light"
     },
     "output_type": "display_data"
    }
   ],
   "source": [
    "fig1, ax1 = plt.subplots(dpi=100)\n",
    "\n",
    "ax1.axis('off')\n",
    "ax1.imshow(X_, cmap=rev_map)\n",
    "fig1.savefig('./images/holes/qr3.png', dpi=200);"
   ]
  },
  {
   "cell_type": "code",
   "execution_count": null,
   "metadata": {},
   "outputs": [],
   "source": [
    "lg_num, olg_num, heat_map = local_merging_number(X_, 20, 20, 0.2)"
   ]
  },
  {
   "cell_type": "code",
   "execution_count": 40,
   "metadata": {},
   "outputs": [
    {
     "data": {
      "image/png": "[encoded data removed]",
      "text/plain": [
       "<Figure size 600x400 with 1 Axes>"
      ]
     },
     "metadata": {
      "needs_background": "light"
     },
     "output_type": "display_data"
    }
   ],
   "source": [
    "fig2, ax2 = plt.subplots(dpi=100)\n",
    "\n",
    "ax2.axis('off')\n",
    "ax2.imshow(heat_map, cmap=rev_map)\n",
    "fig2.savefig('./images/holes/qr3-holes.png', dpi=200);"
   ]
  },
  {
   "cell_type": "code",
   "execution_count": 41,
   "metadata": {},
   "outputs": [
    {
     "data": {
      "image/png": "[encoded data removed]",
      "text/plain": [
       "<Figure size 600x400 with 1 Axes>"
      ]
     },
     "metadata": {},
     "output_type": "display_data"
    }
   ],
   "source": [
    "fig4, ax4 = plt.subplots(dpi=100, facecolor='white')\n",
    "fig4.suptitle(\"Outer Local Merging Number\")\n",
    "ax4.imshow(olg_num, cmap = 'inferno')\n",
    "fig4.savefig('./images/holes/qr3-olg_num.png', dpi=200);"
   ]
  },
  {
   "cell_type": "code",
   "execution_count": null,
   "metadata": {},
   "outputs": [],
   "source": []
  }
 ],
 "metadata": {
  "kernelspec": {
   "display_name": "Python 3",
   "language": "python",
   "name": "python3"
  },
  "language_info": {
   "codemirror_mode": {
    "name": "ipython",
    "version": 3
   },
   "file_extension": ".py",
   "mimetype": "text/x-python",
   "name": "python",
   "nbconvert_exporter": "python",
   "pygments_lexer": "ipython3",
   "version": "3.8.10"
  },
  "orig_nbformat": 4,
  "vscode": {
   "interpreter": {
    "hash": "916dbcbb3f70747c44a77c7bcd40155683ae19c65e1c03b4aa3499c5328201f1"
   }
  }
 },
 "nbformat": 4,
 "nbformat_minor": 2
}
