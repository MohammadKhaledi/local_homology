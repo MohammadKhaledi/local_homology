{
 "cells": [
  {
   "cell_type": "code",
   "execution_count": 137,
   "metadata": {},
   "outputs": [],
   "source": [
    "import numpy as np\n",
    "from numpy import cos, sin, pi\n",
    "import matplotlib.pyplot as plt\n",
    "from libs.XY_model import XYSystem\n",
    "import cv2\n",
    "from tqdm import tqdm"
   ]
  },
  {
   "cell_type": "code",
   "execution_count": 138,
   "metadata": {},
   "outputs": [],
   "source": [
    "def get_curl(x, neighbors):    \n",
    "    N = x.shape[0]\n",
    "    curl = np.zeros([N, N])\n",
    "    ux = cos(x)\n",
    "    uy = sin(x)\n",
    "    for i in range(N):\n",
    "        for j in range(N):\n",
    "            for a in range(1, neighbors):\n",
    "                # curl[i, j] += (  ( (2 * sin(x[i, j])) - sin(x[(i+a)%N, j]) - sin(x[(i-a)%N, j]) ) -\n",
    "                #                  ( (2 * cos(x[i, j])) - cos(x[i, (j+a)%N]) - cos(x[i, (j-a)%N]) )   )/a\n",
    "                \n",
    "                curl[i, j] += (  ( uy[i, j] - uy[(i-a)%N, j] ) -\n",
    "                                 ( ux[i, j] - ux[i, (j-a)%N] ) )/a\n",
    "                \n",
    "                \n",
    "                # curl[i, j] += (  ( (2 * sin(x[i, j])) - sin(x[(i+a)%N, (j+a)%N]) - sin(x[(i-a)%N, (j-a)%N]) ) -\n",
    "                #                  ( (2 * cos(x[i, j])) - cos(x[(i+a)%N, (j+a)%N]) - cos(x[(i-a)%N, (j-a)%N]) )   )/(a * (2**0.5))\n",
    "                \n",
    "                # curl[i, j] += (  ( (2 * sin(x[i, j])) - sin(x[(i+a)%N, (j-a)%N]) - sin(x[(i-a)%N, (j+a)%N]) ) -\n",
    "                #                  ( (2 * cos(x[i, j])) - cos(x[(i+a)%N, (j-a)%N]) - cos(x[(i-a)%N, (j+a)%N]) )   )/(a * (2**0.5))\n",
    "\n",
    "             \n",
    "    curl /= neighbors\n",
    "    return curl"
   ]
  },
  {
   "cell_type": "code",
   "execution_count": 139,
   "metadata": {},
   "outputs": [],
   "source": [
    "def list2matrix(S):\n",
    "        N=int(np.size(S))\n",
    "        L = int(np.sqrt(N))\n",
    "        S=np.reshape(S,(L,L))\n",
    "        return S"
   ]
  },
  {
   "cell_type": "code",
   "execution_count": 140,
   "metadata": {},
   "outputs": [],
   "source": [
    "def plot_heatmap(spin_config, curl, temp, name = 'result', heat = True, just_heat = False, spin = False):\n",
    "    N = spin_config.shape[0]\n",
    "    X, Y = np.meshgrid(np.arange(0,N),np.arange(0, N))\n",
    "    U = np.cos(spin_config)\n",
    "    V = np.sin(spin_config)\n",
    "    plt.figure(figsize=(4,4),dpi=800, facecolor='white')\n",
    "    teta = np.arccos(V)\n",
    "    for i in range(V.shape[0]):\n",
    "        for j in range(V.shape[1]):\n",
    "            if(V[i, j] < 0):\n",
    "                teta[i, j] += pi\n",
    "    if(heat):\n",
    "        plt.imshow(curl, extent=(0, N, 0, N))\n",
    "        plt.colorbar()\n",
    "    if(just_heat):\n",
    "        plt.imshow(curl,extent=(0, N, 0, N))\n",
    "        plt.colorbar()\n",
    "        plt.savefig(f'./images/{name}.png', dpi = 800)\n",
    "        plt.close()\n",
    "        return\n",
    "    if(spin):\n",
    "        plt.imshow(spin_config, extent=(0, N, 0, N))\n",
    "        plt.colorbar()\n",
    "    Q = plt.quiver(X, Y, U, V, units='width')\n",
    "    qk = plt.quiverkey(Q, 0.1, 0.1, 1, r'$spin$', labelpos='E',\n",
    "                coordinates='figure')\n",
    "    plt.title('T=%.2f'%temp+', #spins='+str(N)+'x'+str(N))\n",
    "    plt.savefig(f'./images/{name}.png', dpi = 800)\n",
    "    plt.close()"
   ]
  },
  {
   "cell_type": "code",
   "execution_count": 141,
   "metadata": {},
   "outputs": [],
   "source": [
    "temp = [0.01, 0.05, 0.08, 0.1]\n",
    "N = [32]"
   ]
  },
  {
   "cell_type": "code",
   "execution_count": 142,
   "metadata": {},
   "outputs": [
    {
     "name": "stderr",
     "output_type": "stream",
     "text": [
      "  0%|          | 0/1 [00:00<?, ?it/s]"
     ]
    },
    {
     "name": "stdout",
     "output_type": "stream",
     "text": [
      "\n",
      "equilibrium state is reached at T=0.0\n",
      "#sweep=501\n",
      "energy=-1.90\n",
      "max = 12.899024602205733, min = -5.363957145045575\n",
      "\n",
      "equilibrium state is reached at T=0.1\n",
      "#sweep=502\n",
      "energy=-1.90\n",
      "max = 12.407062955897118, min = -5.681065585851291\n",
      "\n",
      "equilibrium state is reached at T=0.1\n",
      "#sweep=507\n",
      "energy=-1.91\n",
      "max = 13.082564093267905, min = -6.161455037272704\n",
      "\n",
      "equilibrium state is reached at T=0.1\n",
      "#sweep=508\n",
      "energy=-1.92\n"
     ]
    },
    {
     "name": "stderr",
     "output_type": "stream",
     "text": [
      "100%|██████████| 1/1 [00:42<00:00, 42.05s/it]"
     ]
    },
    {
     "name": "stdout",
     "output_type": "stream",
     "text": [
      "max = 12.710600127579118, min = -7.119754885561425\n"
     ]
    },
    {
     "name": "stderr",
     "output_type": "stream",
     "text": [
      "\n"
     ]
    }
   ],
   "source": [
    "for n in tqdm(range(len(N))):    \n",
    "    for i in range(len(temp)):\n",
    "        xy1 = XYSystem(temperature = temp[i], width = N[n])\n",
    "        xy1.equilibrate(show=False)\n",
    "        x = list2matrix(xy1.spin_config)\n",
    "        cu = get_curl(x, 1)\n",
    "        plot_heatmap(x, cu, temp[i], f'mix2_{temp[i]}_{N[n]}')\n",
    "        plot_heatmap(x, cu, temp[i], f'vec2_{temp[i]}_{N[n]}', False)\n",
    "        plot_heatmap(x, cu, temp[i], f'curl2_{temp[i]}_{N[n]}', False, True)\n",
    "        plot_heatmap(x, cu, temp[i], f'spin2_{temp[i]}_{N[n]}', False, False, True)\n",
    "        print(f'max = {np.max(x)}, min = {np.min(x)}')"
   ]
  },
  {
   "cell_type": "code",
   "execution_count": 143,
   "metadata": {},
   "outputs": [
    {
     "data": {
      "text/plain": [
       "0.716797575080995"
      ]
     },
     "execution_count": 143,
     "metadata": {},
     "output_type": "execute_result"
    }
   ],
   "source": [
    "cos(13.337968261936897)"
   ]
  },
  {
   "cell_type": "code",
   "execution_count": 144,
   "metadata": {},
   "outputs": [
    {
     "data": {
      "text/plain": [
       "array([ 5.6024268 , -0.67810356,  5.86579671,  5.76903224,  6.25507732,\n",
       "        6.05262184,  5.95486781,  5.99084723,  6.13874279,  0.26992914,\n",
       "        0.07019746,  0.07817304,  6.08128966, -0.44714043,  6.16235063,\n",
       "        6.01035176,  6.17004789, -0.69382886,  5.95818924,  5.67018139,\n",
       "        5.60746874,  5.44297999,  5.60538382, 11.95838874,  5.12515146,\n",
       "        5.36630947, 11.65894368,  4.91678201,  4.9524995 ,  5.45547448,\n",
       "        5.28400854, -0.68063624])"
      ]
     },
     "execution_count": 144,
     "metadata": {},
     "output_type": "execute_result"
    }
   ],
   "source": [
    "x[0]"
   ]
  },
  {
   "cell_type": "code",
   "execution_count": 145,
   "metadata": {},
   "outputs": [
    {
     "data": {
      "text/plain": [
       "array([0.77709555, 0.77876379, 0.91415065, 0.87070955, 0.999605  ,\n",
       "       0.97353778, 0.94658621, 0.95757268, 0.9895863 , 0.96378979,\n",
       "       0.99753717, 0.99694604, 0.97968821, 0.90168723, 0.99270837,\n",
       "       0.96301123, 0.99360679, 0.76880316, 0.94765198, 0.81792347,\n",
       "       0.78025897, 0.66730992, 0.77895325, 0.82080247, 0.40114133,\n",
       "       0.60830279, 0.61577516, 0.20297286, 0.23780998, 0.67656324,\n",
       "       0.54099485, 0.7771725 ])"
      ]
     },
     "execution_count": 145,
     "metadata": {},
     "output_type": "execute_result"
    }
   ],
   "source": [
    "cos(x[0])"
   ]
  },
  {
   "cell_type": "code",
   "execution_count": 146,
   "metadata": {},
   "outputs": [
    {
     "data": {
      "text/plain": [
       "-0.3066654861976086"
      ]
     },
     "execution_count": 146,
     "metadata": {},
     "output_type": "execute_result"
    }
   ],
   "source": [
    "cos(-1.88248406)"
   ]
  },
  {
   "cell_type": "code",
   "execution_count": null,
   "metadata": {},
   "outputs": [],
   "source": []
  }
 ],
 "metadata": {
  "kernelspec": {
   "display_name": "Python 3",
   "language": "python",
   "name": "python3"
  },
  "language_info": {
   "codemirror_mode": {
    "name": "ipython",
    "version": 3
   },
   "file_extension": ".py",
   "mimetype": "text/x-python",
   "name": "python",
   "nbconvert_exporter": "python",
   "pygments_lexer": "ipython3",
   "version": "3.9.2"
  },
  "orig_nbformat": 4,
  "vscode": {
   "interpreter": {
    "hash": "916dbcbb3f70747c44a77c7bcd40155683ae19c65e1c03b4aa3499c5328201f1"
   }
  }
 },
 "nbformat": 4,
 "nbformat_minor": 2
}
