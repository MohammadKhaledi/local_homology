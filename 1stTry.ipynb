{
 "cells": [
  {
   "cell_type": "code",
   "execution_count": 148,
   "metadata": {},
   "outputs": [],
   "source": [
    "import numpy as np\n",
    "import matplotlib.pyplot as plt\n",
    "import cv2"
   ]
  },
  {
   "cell_type": "code",
   "execution_count": 167,
   "metadata": {},
   "outputs": [],
   "source": [
    "img = cv2.imread('./images/simple_binary.png')"
   ]
  },
  {
   "cell_type": "code",
   "execution_count": 168,
   "metadata": {},
   "outputs": [],
   "source": [
    "X = cv2.cvtColor(img,cv2.COLOR_BGR2GRAY)\n",
    "X = X[0:234, 0:234]"
   ]
  },
  {
   "cell_type": "code",
   "execution_count": 169,
   "metadata": {},
   "outputs": [],
   "source": [
    "p_size = 80\n",
    "patches_x = 3\n",
    "patches_y = 3"
   ]
  },
  {
   "cell_type": "code",
   "execution_count": 170,
   "metadata": {},
   "outputs": [
    {
     "data": {
      "text/plain": [
       "(234, 234)"
      ]
     },
     "execution_count": 170,
     "metadata": {},
     "output_type": "execute_result"
    }
   ],
   "source": [
    "X.shape"
   ]
  },
  {
   "cell_type": "code",
   "execution_count": 175,
   "metadata": {},
   "outputs": [
    {
     "name": "stdout",
     "output_type": "stream",
     "text": [
      "px = 1:80, py = 1:80\n",
      "px = 1:80, py = 81:160\n",
      "px = 1:80, py = 161:240\n",
      "px = 81:160, py = 1:80\n",
      "px = 81:160, py = 81:160\n",
      "px = 81:160, py = 161:240\n",
      "px = 161:240, py = 1:80\n",
      "px = 161:240, py = 81:160\n",
      "px = 161:240, py = 161:240\n"
     ]
    }
   ],
   "source": [
    "offset = 0\n",
    "X1 = np.zeros([X.shape[0], X.shape[1], 9]) + 255\n",
    "X2 = np.zeros([X.shape[0], X.shape[1], 9]) + 255\n",
    "X1_U_X2 = np.zeros([X.shape[0], X.shape[1], 9])\n",
    "\n",
    "for i in range(0, X.shape[0], p_size):\n",
    "    for j in range(0, X.shape[1], p_size):\n",
    "        # print(f\"px = {i+1}:{i+p_size}, py = {j+1}:{j+p_size}\")\n",
    "        X1[i+1:i+p_size-1, j+1:j+p_size-1, offset] = np.array(X[i+1:i+p_size-1, j+1:j+p_size-1])\n",
    "        \n",
    "        X2[:, :, offset] = X\n",
    "        X2[i:i+p_size, j:j+p_size, offset] = 255\n",
    "        \n",
    "        X1_U_X2[:, :, offset] = X\n",
    "        X1_U_X2[i:i+p_size, j:j+p_size+1, offset] = 255 \n",
    "        X1_U_X2[i+1:i+p_size-1, j+1:j+p_size-1, offset] = X1[i+1:i+p_size-1, j+1:j+p_size-1, offset] \n",
    "\n",
    "        cv2.imwrite(f\"./images/croped/image_X1_{offset}.png\", X1[:,:,offset])\n",
    "        cv2.imwrite(f\"./images/croped/image_X2_{offset}.png\", X2[:,:,offset])\n",
    "        cv2.imwrite(f\"./images/croped/image_X1UX2_{offset}.png\", X1_U_X2[:,:,offset])\n",
    "        offset += 1"
   ]
  },
  {
   "cell_type": "code",
   "execution_count": null,
   "metadata": {},
   "outputs": [],
   "source": []
  },
  {
   "cell_type": "code",
   "execution_count": null,
   "metadata": {},
   "outputs": [],
   "source": []
  }
 ],
 "metadata": {
  "kernelspec": {
   "display_name": "Python 3",
   "language": "python",
   "name": "python3"
  },
  "language_info": {
   "codemirror_mode": {
    "name": "ipython",
    "version": 3
   },
   "file_extension": ".py",
   "mimetype": "text/x-python",
   "name": "python",
   "nbconvert_exporter": "python",
   "pygments_lexer": "ipython3",
   "version": "3.8.10"
  },
  "orig_nbformat": 4,
  "vscode": {
   "interpreter": {
    "hash": "916dbcbb3f70747c44a77c7bcd40155683ae19c65e1c03b4aa3499c5328201f1"
   }
  }
 },
 "nbformat": 4,
 "nbformat_minor": 2
}
