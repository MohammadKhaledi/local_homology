{
 "cells": [
  {
   "cell_type": "code",
   "execution_count": 1,
   "metadata": {},
   "outputs": [],
   "source": [
    "import numpy as np\n",
    "from numpy import cos, sin, pi\n",
    "import matplotlib.pyplot as plt\n",
    "from libs.XY_model import XYSystem\n",
    "import cv2\n",
    "from tqdm import tqdm"
   ]
  },
  {
   "cell_type": "code",
   "execution_count": 2,
   "metadata": {},
   "outputs": [],
   "source": [
    "def get_curl(x, neighbors):    \n",
    "    N = x.shape[0]\n",
    "    curl = np.zeros([N, N])\n",
    "    ux = cos(x)\n",
    "    uy = sin(x)\n",
    "    for i in range(N):\n",
    "        for j in range(N):\n",
    "            for a in range(1, neighbors):\n",
    "                curl[i, j] += (  ( uy[i, j] - uy[(i-a)%N, j] ) -\n",
    "                                 ( ux[i, j] - ux[i, (j-a)%N] ) )/a\n",
    "             \n",
    "    curl /= neighbors\n",
    "    return curl"
   ]
  },
  {
   "cell_type": "code",
   "execution_count": 3,
   "metadata": {},
   "outputs": [],
   "source": [
    "def list2matrix(S):\n",
    "        N=int(np.size(S))\n",
    "        L = int(np.sqrt(N))\n",
    "        S=np.reshape(S,(L,L))\n",
    "        return S"
   ]
  },
  {
   "cell_type": "code",
   "execution_count": 5,
   "metadata": {},
   "outputs": [],
   "source": [
    "def plot_heatmap(spin_config, curl, temp, name = 'result', heat = True, just_heat = False, spin = False):\n",
    "    N = spin_config.shape[0]\n",
    "    X, Y = np.meshgrid(np.arange(0,N),np.arange(0, N))\n",
    "    U = np.cos(spin_config)\n",
    "    V = np.sin(spin_config)\n",
    "    plt.figure(figsize=(4,4),dpi=600, facecolor='white')\n",
    "    if(heat):\n",
    "        plt.imshow(curl)\n",
    "        plt.colorbar()\n",
    "    if(just_heat):\n",
    "        plt.imshow(curl)\n",
    "        plt.colorbar()\n",
    "        plt.savefig(f'./images/{name}.png', dpi = 600)\n",
    "        plt.close()\n",
    "        return\n",
    "    if(spin):\n",
    "        plt.imshow(U)\n",
    "        plt.colorbar()\n",
    "    Q = plt.quiver(X, Y, U, V, units='width')\n",
    "    qk = plt.quiverkey(Q, 0.1, 0.1, 1, r'$spin$', labelpos='E',\n",
    "                coordinates='figure')\n",
    "    plt.title('T=%.2f'%temp+', #spins='+str(N)+'x'+str(N))\n",
    "    plt.savefig(f'./images/{name}.png', dpi = 600)\n",
    "    plt.close()"
   ]
  },
  {
   "cell_type": "code",
   "execution_count": 6,
   "metadata": {},
   "outputs": [],
   "source": [
    "temp = [0.01, 0.05, 0.08, 0.1, 0.9, 1.5]\n",
    "N = [32]"
   ]
  },
  {
   "cell_type": "code",
   "execution_count": 7,
   "metadata": {},
   "outputs": [
    {
     "name": "stderr",
     "output_type": "stream",
     "text": [
      "  0%|          | 0/1 [00:00<?, ?it/s]/home/mohammad/Documents/local_homology/libs/XY_model.py:48: RuntimeWarning: overflow encountered in exp\n",
      "  if np.random.uniform(0.0, 1.0) < np.exp(-beta * delta_E):\n"
     ]
    },
    {
     "name": "stdout",
     "output_type": "stream",
     "text": [
      "\n",
      "equilibrium state is reached at T=0.0\n",
      "#sweep=501\n",
      "energy=-1.87\n",
      "\n",
      "equilibrium state is reached at T=0.1\n",
      "#sweep=502\n",
      "energy=-1.91\n",
      "\n",
      "equilibrium state is reached at T=0.1\n",
      "#sweep=501\n",
      "energy=-1.89\n",
      "\n",
      "equilibrium state is reached at T=0.1\n",
      "#sweep=503\n",
      "energy=-1.90\n"
     ]
    },
    {
     "ename": "",
     "evalue": "",
     "output_type": "error",
     "traceback": [
      "\u001b[1;31mCanceled future for execute_request message before replies were done"
     ]
    },
    {
     "ename": "",
     "evalue": "",
     "output_type": "error",
     "traceback": [
      "\u001b[1;31mThe Kernel crashed while executing code in the the current cell or a previous cell. Please review the code in the cell(s) to identify a possible cause of the failure. Click <a href='https://aka.ms/vscodeJupyterKernelCrash'>here</a> for more info. View Jupyter <a href='command:jupyter.viewOutput'>log</a> for further details."
     ]
    }
   ],
   "source": [
    "for n in tqdm(range(len(N))):    \n",
    "    for i in range(len(temp)):\n",
    "        xy1 = XYSystem(temperature = temp[i], width = N[n])\n",
    "        xy1.equilibrate(show=False)\n",
    "        x = list2matrix(xy1.spin_config)\n",
    "        cu = get_curl(x, (int)(x.shape[0] / 3))\n",
    "        plot_heatmap(x, cu, temp[i], f'mix_{temp[i]}_{N[n]}')\n",
    "        plot_heatmap(x, cu, temp[i], f'vec_{temp[i]}_{N[n]}', False)\n",
    "        plot_heatmap(x, cu, temp[i], f'curl_{temp[i]}_{N[n]}', False, True)\n",
    "        plot_heatmap(x, cu, temp[i], f'cos_{temp[i]}_{N[n]}', False, False, True)"
   ]
  },
  {
   "cell_type": "code",
   "execution_count": null,
   "metadata": {},
   "outputs": [],
   "source": []
  }
 ],
 "metadata": {
  "kernelspec": {
   "display_name": "Python 3",
   "language": "python",
   "name": "python3"
  },
  "language_info": {
   "codemirror_mode": {
    "name": "ipython",
    "version": 3
   },
   "file_extension": ".py",
   "mimetype": "text/x-python",
   "name": "python",
   "nbconvert_exporter": "python",
   "pygments_lexer": "ipython3",
   "version": "3.8.10"
  },
  "orig_nbformat": 4,
  "vscode": {
   "interpreter": {
    "hash": "916dbcbb3f70747c44a77c7bcd40155683ae19c65e1c03b4aa3499c5328201f1"
   }
  }
 },
 "nbformat": 4,
 "nbformat_minor": 2
}
