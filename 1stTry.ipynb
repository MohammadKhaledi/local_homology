{
 "cells": [
  {
   "cell_type": "code",
   "execution_count": 62,
   "metadata": {},
   "outputs": [],
   "source": [
    "import numpy as np\n",
    "from numpy import cos, sin\n",
    "import matplotlib.pyplot as plt\n",
    "from libs.XY_model import XYSystem\n",
    "import cv2\n",
    "from tqdm import tqdm"
   ]
  },
  {
   "cell_type": "code",
   "execution_count": 63,
   "metadata": {},
   "outputs": [],
   "source": [
    "def get_curl(x, neighbors):    \n",
    "    N = x.shape[0]\n",
    "    curl = np.zeros([N, N])\n",
    "    for i in range(N):\n",
    "        for j in range(N):\n",
    "            for a in range(1, neighbors):\n",
    "                curl[i, j] += (  ( (2 * sin(x[i, j]) - sin(x[i, (j+a)%N] - sin(x[i, (j-a)%N])))) -\n",
    "                                ( (2 * cos(x[i, j])) - cos(x[(i+a)%N, j]) - cos(x[(i-a)%N, j]))   )/a\n",
    "                curl[i, j] += (  ( (2 * sin(x[i, j]) - sin(x[(i+a)%N, (j+a)%N] - sin(x[(i-a)%N, (j-a)%N])))) -\n",
    "                                ( (2 * cos(x[i, j])) - cos(x[(i+a)%N, (j+a)%N]) - cos(x[(i-a)%N, (j-a)%N]))   )/(a * (2**0.5))\n",
    "    curl /= neighbors\n",
    "    return curl"
   ]
  },
  {
   "cell_type": "code",
   "execution_count": 64,
   "metadata": {},
   "outputs": [],
   "source": [
    "def list2matrix(S):\n",
    "        N=int(np.size(S))\n",
    "        L = int(np.sqrt(N))\n",
    "        S=np.reshape(S,(L,L))\n",
    "        return S"
   ]
  },
  {
   "cell_type": "code",
   "execution_count": 65,
   "metadata": {},
   "outputs": [],
   "source": [
    "def plot_heatmap(spin_config, curl, temp, name = 'result', heat = True, just_heat = False):\n",
    "    N = spin_config.shape[0]\n",
    "    X, Y = np.meshgrid(np.arange(0,N),np.arange(0, N))\n",
    "    U = np.cos(spin_config)\n",
    "    V = np.sin(spin_config)\n",
    "    plt.figure(figsize=(4,4),dpi=800, facecolor='white')\n",
    "    if(heat):\n",
    "        plt.imshow(curl, extent=(0, N, 0, N))\n",
    "        plt.colorbar()\n",
    "    if(just_heat):\n",
    "        plt.imshow(curl,extent=(0, N, 0, N))\n",
    "        plt.colorbar()\n",
    "        plt.savefig(f'./{name}.png', dpi = 800)\n",
    "        plt.close()\n",
    "        return\n",
    "    Q = plt.quiver(X, Y, U, V, units='width')\n",
    "    qk = plt.quiverkey(Q, 0.1, 0.1, 1, r'$spin$', labelpos='E',\n",
    "                coordinates='figure')\n",
    "    plt.title('T=%.2f'%temp+', #spins='+str(N)+'x'+str(N))\n",
    "    plt.savefig(f'./images/{name}.png', dpi = 800)\n",
    "    plt.close()"
   ]
  },
  {
   "cell_type": "code",
   "execution_count": 66,
   "metadata": {},
   "outputs": [],
   "source": [
    "temp = [0.1, 0.6, 1.1]\n",
    "N = [32, 64, 128]"
   ]
  },
  {
   "cell_type": "code",
   "execution_count": 67,
   "metadata": {},
   "outputs": [
    {
     "name": "stderr",
     "output_type": "stream",
     "text": [
      "  0%|          | 0/3 [00:00<?, ?it/s]"
     ]
    },
    {
     "name": "stdout",
     "output_type": "stream",
     "text": [
      "\n",
      "equilibrium state is reached at T=0.1\n",
      "#sweep=504\n",
      "energy=-1.91\n",
      "\n",
      "equilibrium state is reached at T=0.6\n",
      "#sweep=706\n",
      "energy=-1.65\n",
      "\n",
      "equilibrium state is reached at T=1.1\n",
      "#sweep=605\n",
      "energy=-1.14\n"
     ]
    },
    {
     "name": "stderr",
     "output_type": "stream",
     "text": [
      " 33%|███▎      | 1/3 [00:31<01:03, 31.71s/it]"
     ]
    },
    {
     "name": "stdout",
     "output_type": "stream",
     "text": [
      "\n",
      "equilibrium state is reached at T=0.1\n",
      "#sweep=501\n",
      "energy=-1.89\n",
      "\n",
      "equilibrium state is reached at T=0.6\n",
      "#sweep=556\n",
      "energy=-1.64\n",
      "\n",
      "equilibrium state is reached at T=1.1\n",
      "#sweep=658\n",
      "energy=-1.16\n"
     ]
    },
    {
     "name": "stderr",
     "output_type": "stream",
     "text": [
      " 67%|██████▋   | 2/3 [02:18<01:15, 75.72s/it]"
     ]
    },
    {
     "name": "stdout",
     "output_type": "stream",
     "text": [
      "\n",
      "equilibrium state is reached at T=0.1\n",
      "#sweep=501\n",
      "energy=-1.90\n",
      "\n",
      "equilibrium state is reached at T=0.6\n",
      "#sweep=511\n",
      "energy=-1.65\n",
      "\n",
      "equilibrium state is reached at T=1.1\n",
      "#sweep=537\n",
      "energy=-1.17\n"
     ]
    },
    {
     "name": "stderr",
     "output_type": "stream",
     "text": [
      "100%|██████████| 3/3 [08:14<00:00, 164.75s/it]\n"
     ]
    }
   ],
   "source": [
    "for n in tqdm(range(len(N))):    \n",
    "    for i in range(len(temp)):\n",
    "        xy1 = XYSystem(temperature = temp[i], width = N[n])\n",
    "        xy1.equilibrate(show=False)\n",
    "        x = list2matrix(xy1.spin_config)\n",
    "        cu = get_curl(x, (int)(x.shape[0]/10))\n",
    "        plot_heatmap(x, cu, temp[i], f'mix_{temp[i]}_{N[n]}')\n",
    "        plot_heatmap(x, cu, temp[i], f'vec_{temp[i]}_{N[n]}', False)\n",
    "        plot_heatmap(x, cu, temp[i], f'curl_{temp[i]}_{N[n]}', False, True)"
   ]
  },
  {
   "cell_type": "code",
   "execution_count": null,
   "metadata": {},
   "outputs": [],
   "source": []
  }
 ],
 "metadata": {
  "kernelspec": {
   "display_name": "Python 3",
   "language": "python",
   "name": "python3"
  },
  "language_info": {
   "codemirror_mode": {
    "name": "ipython",
    "version": 3
   },
   "file_extension": ".py",
   "mimetype": "text/x-python",
   "name": "python",
   "nbconvert_exporter": "python",
   "pygments_lexer": "ipython3",
   "version": "3.9.2"
  },
  "orig_nbformat": 4,
  "vscode": {
   "interpreter": {
    "hash": "916dbcbb3f70747c44a77c7bcd40155683ae19c65e1c03b4aa3499c5328201f1"
   }
  }
 },
 "nbformat": 4,
 "nbformat_minor": 2
}
