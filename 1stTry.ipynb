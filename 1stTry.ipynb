{
 "cells": [
  {
   "cell_type": "code",
   "execution_count": 1,
   "metadata": {},
   "outputs": [],
   "source": [
    "import numpy as np\n",
    "import matplotlib.pyplot as plt\n",
    "import cv2\n",
    "import gudhi\n",
    "from tqdm import tqdm\n",
    "from numba import jit"
   ]
  },
  {
   "cell_type": "code",
   "execution_count": 2,
   "metadata": {},
   "outputs": [],
   "source": [
    "@jit(forceobj=True)\n",
    "def number_of_b0_b1(p):\n",
    "    rips = gudhi.RipsComplex(points = p, max_edge_length = 2)\n",
    "    s_tree = rips.create_simplex_tree(max_dimension = 2)\n",
    "    diag = s_tree.persistence()\n",
    "    b0, b1 = 0, 0\n",
    "    for dg in diag:\n",
    "        if(dg[1][1] >= 1.42 or dg[1][1] == np.inf):\n",
    "            if(dg[0] == 0):\n",
    "                b0 += 1\n",
    "            if(dg[0] == 1):\n",
    "                b1 += 1\n",
    "    return b0, b1"
   ]
  },
  {
   "cell_type": "code",
   "execution_count": 3,
   "metadata": {},
   "outputs": [],
   "source": [
    "@jit(forceobj=True)\n",
    "def image_to_point(X):\n",
    "    points = []\n",
    "    for i in range(X.shape[0]):\n",
    "        for j in range(X.shape[1]):\n",
    "            if(X[i, j] == 0):\n",
    "                a = np.array([i, j])\n",
    "                points.append(a)\n",
    "    points = np.array(points)\n",
    "    return points"
   ]
  },
  {
   "cell_type": "code",
   "execution_count": 4,
   "metadata": {},
   "outputs": [],
   "source": [
    "def local_merging_number(X, patches_x, patches_y, step_perc = 0.5):\n",
    "    x_b0, x_b1 = number_of_b0_b1(image_to_point(X))\n",
    "\n",
    "    px_s = (int)(X.shape[0] / patches_x) \n",
    "    py_s = (int)(X.shape[1] / patches_y)\n",
    "    while((X.shape[0] - patches_x * px_s) >= px_s):\n",
    "      px_s += 1\n",
    "    while((X.shape[1] - patches_y * py_s) >= py_s):\n",
    "      py_s += 1\n",
    "    print(f\"{X.shape}, px_s = {px_s}, py_s = {py_s}\")\n",
    "    \n",
    "    \n",
    "    Y = np.zeros([X.shape[0], X.shape[1]]) + 255\n",
    "\n",
    "    offset = 0\n",
    "    \n",
    "    lg = np.zeros([(X.shape[0] - px_s), (X.shape[1] - py_s)])\n",
    "    olg = np.zeros([(X.shape[0] - px_s), (X.shape[1] - py_s)])\n",
    "\n",
    "    step_x = (int)(step_perc * px_s)\n",
    "    step_y = (int)(step_perc *py_s)\n",
    "    i, j = 0, 0\n",
    "    pbar = tqdm(total = X.shape[0] - px_s)\n",
    "    while(i < (X.shape[0] - px_s)):\n",
    "      while(j < (X.shape[1] - py_s)):\n",
    "        X1 = np.zeros([X.shape[0], X.shape[1]]) + 255\n",
    "        X2 = np.zeros([X.shape[0], X.shape[1]]) + 255\n",
    "        # print(f\"({i + 1} : {i + px_s}), ({j + 1} : {j + py_s}), {offset}\")\n",
    "        X1[ (i + 1) : (i + step_x), (j + 1) : (j + py_s) ] = np.array(X[(i + 1) : (i + step_x), (j + 1) : (j + py_s)])\n",
    "        x1_b0, x1_b1 = number_of_b0_b1(image_to_point(X1[(i + 1) : (i + step_x), (j + 1) : (j + py_s)]))\n",
    "\n",
    "        X2 = np.array(X)\n",
    "        X2[ i : (i + px_s - 1), j : (j + py_s - 1)] = 255\n",
    "        x2_b0, x2_b1 = number_of_b0_b1(image_to_point(X2))\n",
    "\n",
    "        if(x_b1 > (x1_b1 + x2_b1)):\n",
    "          olg[i, j] += (x_b1 - (x1_b1 + x2_b1))\n",
    "          Y[i : (i + px_s - 1), j : (j + py_s - 1) ] = np.array(X[i : (i + px_s - 1), j : (j + py_s - 1) ])\n",
    "          # cv2.imwrite(f\"./image_Y_{offset}.png\", Y)\n",
    "\n",
    "        # cv2.imwrite(f\"./image_X1_{offset}.png\", X1[:,:, offset])\n",
    "        # cv2.imwrite(f\"./image_X2_{offset}.png\", X2[:,:, offset])\n",
    "        # cv2.imwrite(f\"./image_X1UX2_{offset}.png\", X1_U_X2[:,:, offset])\n",
    "        j += step_y\n",
    "      j = 0\n",
    "      i += step_x\n",
    "      pbar.update(step_x)\n",
    "    pbar.close()\n",
    "    return lg,olg, Y"
   ]
  },
  {
   "cell_type": "code",
   "execution_count": 5,
   "metadata": {},
   "outputs": [],
   "source": [
    "img = cv2.imread('./images/qr-code-7.png')\n",
    "img = cv2.cvtColor(img,cv2.COLOR_BGR2GRAY)\n",
    "ret,X = cv2.threshold(img,70,255,cv2.THRESH_BINARY)"
   ]
  },
  {
   "cell_type": "code",
   "execution_count": 6,
   "metadata": {},
   "outputs": [
    {
     "data": {
      "text/plain": [
       "(928, 928)"
      ]
     },
     "execution_count": 6,
     "metadata": {},
     "output_type": "execute_result"
    }
   ],
   "source": [
    "X.shape"
   ]
  },
  {
   "cell_type": "code",
   "execution_count": 7,
   "metadata": {},
   "outputs": [
    {
     "data": {
      "image/png": "[encoded data removed]",
      "text/plain": [
       "<Figure size 432x288 with 1 Axes>"
      ]
     },
     "metadata": {
      "needs_background": "light"
     },
     "output_type": "display_data"
    }
   ],
   "source": [
    "orig_map = plt.cm.get_cmap('Greys')\n",
    "rev_map = orig_map.reversed()\n",
    "\n",
    "fig1, ax1 = plt.subplots()\n",
    "ax1.axis('off')\n",
    "ax1.imshow(X, cmap = rev_map);"
   ]
  },
  {
   "cell_type": "code",
   "execution_count": 8,
   "metadata": {},
   "outputs": [],
   "source": [
    "X_ = cv2.resize(X, [(int)(X.shape[0]/5), (int)(X.shape[1]/5)])"
   ]
  },
  {
   "cell_type": "code",
   "execution_count": 9,
   "metadata": {},
   "outputs": [
    {
     "data": {
      "text/plain": [
       "(185, 185)"
      ]
     },
     "execution_count": 9,
     "metadata": {},
     "output_type": "execute_result"
    }
   ],
   "source": [
    "X_.shape"
   ]
  },
  {
   "cell_type": "code",
   "execution_count": 10,
   "metadata": {},
   "outputs": [
    {
     "data": {
      "image/png": "[encoded data removed]",
      "text/plain": [
       "<Figure size 432x288 with 1 Axes>"
      ]
     },
     "metadata": {
      "needs_background": "light"
     },
     "output_type": "display_data"
    }
   ],
   "source": [
    "fig2, ax2 = plt.subplots()\n",
    "ax2.axis('off')\n",
    "ax2.imshow(X_, cmap = rev_map);"
   ]
  },
  {
   "cell_type": "code",
   "execution_count": 11,
   "metadata": {},
   "outputs": [
    {
     "name": "stdout",
     "output_type": "stream",
     "text": [
      "(185, 185), px_s = 18, py_s = 18\n"
     ]
    },
    {
     "name": "stderr",
     "output_type": "stream",
     "text": [
      "171it [05:50,  2.05s/it]                         \n"
     ]
    }
   ],
   "source": [
    "lg_num, olg_num, heat_map = local_merging_number(X_, 10, 10, 0.5)"
   ]
  },
  {
   "cell_type": "code",
   "execution_count": 12,
   "metadata": {},
   "outputs": [
    {
     "data": {
      "image/png": "[encoded data removed]",
      "text/plain": [
       "<Figure size 432x288 with 1 Axes>"
      ]
     },
     "metadata": {
      "needs_background": "light"
     },
     "output_type": "display_data"
    }
   ],
   "source": [
    "fig3, ax3 = plt.subplots()\n",
    "ax3.axis('off')\n",
    "ax3.imshow(heat_map, cmap = rev_map);"
   ]
  },
  {
   "cell_type": "code",
   "execution_count": 18,
   "metadata": {},
   "outputs": [
    {
     "data": {
      "image/png": "[encoded data removed]",
      "text/plain": [
       "<Figure size 432x288 with 1 Axes>"
      ]
     },
     "metadata": {
      "needs_background": "light"
     },
     "output_type": "display_data"
    }
   ],
   "source": [
    "fig4, ax4 = plt.subplots()\n",
    "ax4.imshow(olg_num, cmap = 'inferno');"
   ]
  },
  {
   "cell_type": "code",
   "execution_count": null,
   "metadata": {},
   "outputs": [],
   "source": []
  }
 ],
 "metadata": {
  "kernelspec": {
   "display_name": "Python 3",
   "language": "python",
   "name": "python3"
  },
  "language_info": {
   "codemirror_mode": {
    "name": "ipython",
    "version": 3
   },
   "file_extension": ".py",
   "mimetype": "text/x-python",
   "name": "python",
   "nbconvert_exporter": "python",
   "pygments_lexer": "ipython3",
   "version": "3.8.10"
  },
  "orig_nbformat": 4,
  "vscode": {
   "interpreter": {
    "hash": "916dbcbb3f70747c44a77c7bcd40155683ae19c65e1c03b4aa3499c5328201f1"
   }
  }
 },
 "nbformat": 4,
 "nbformat_minor": 2
}
