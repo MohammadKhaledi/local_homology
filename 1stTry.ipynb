{
 "cells": [
  {
   "cell_type": "code",
   "execution_count": 2,
   "metadata": {},
   "outputs": [],
   "source": [
    "import numpy as np\n",
    "import matplotlib.pyplot as plt\n",
    "import cv2\n",
    "import gudhi\n",
    "from tqdm import tqdm\n",
    "from numba import jit"
   ]
  },
  {
   "cell_type": "code",
   "execution_count": 3,
   "metadata": {},
   "outputs": [],
   "source": [
    "@jit(forceobj=True)\n",
    "def number_of_b0_b1(p):\n",
    "    rips = gudhi.RipsComplex(points = p, max_edge_length = 2)\n",
    "    s_tree = rips.create_simplex_tree(max_dimension = 2)\n",
    "    diag = s_tree.persistence()\n",
    "    b0, b1 = 0, 0\n",
    "    for dg in diag:\n",
    "        if(dg[1][1] >= 1.42 or dg[1][1] == np.inf):\n",
    "            if(dg[0] == 0):\n",
    "                b0 += 1\n",
    "            if(dg[0] == 1):\n",
    "                b1 += 1\n",
    "    return b0, b1"
   ]
  },
  {
   "cell_type": "code",
   "execution_count": 4,
   "metadata": {},
   "outputs": [],
   "source": [
    "@jit(forceobj=True)\n",
    "def image_to_point(X):\n",
    "    points = []\n",
    "    for i in range(X.shape[0]):\n",
    "        for j in range(X.shape[1]):\n",
    "            if(X[i, j] == 0):\n",
    "                a = np.array([i, j])\n",
    "                points.append(a)\n",
    "    points = np.array(points)\n",
    "    return points"
   ]
  },
  {
   "cell_type": "code",
   "execution_count": 5,
   "metadata": {},
   "outputs": [],
   "source": [
    "def local_merging_number(X, patches_x, patches_y, dir):\n",
    "    x_b0, x_b1 = number_of_b0_b1(image_to_point(X))\n",
    "\n",
    "    px_s = (int)(X.shape[0] / patches_x) \n",
    "    py_s = (int)(X.shape[1] / patches_y)\n",
    "    while((X.shape[0] - patches_x * px_s) >= px_s):\n",
    "      px_s += 1\n",
    "    while((X.shape[1] - patches_y * py_s) >= py_s):\n",
    "      py_s += 1\n",
    "    print(f\"{X.shape}, px_s = {px_s}, py_s = {py_s}\")\n",
    "    X1 = np.zeros([X.shape[0], X.shape[1], patches_x*patches_y]) + 255\n",
    "    X2 = np.zeros([X.shape[0], X.shape[1], patches_x*patches_y]) + 255\n",
    "    X1_U_X2 = np.zeros([X.shape[0], X.shape[1], patches_x*patches_y])\n",
    "    Y = np.zeros([X.shape[0], X.shape[1]]) + 255\n",
    "\n",
    "    i, j = 0, 0\n",
    "    n, m = 0, 0\n",
    "    offset = 0\n",
    "    \n",
    "    lg = np.zeros([patches_x, patches_y])\n",
    "    olg = np.zeros([patches_x, patches_y])\n",
    "\n",
    "    for i in tqdm(range(patches_x)):\n",
    "      for j in range(patches_y):\n",
    "        X1[ i*px_s + 1 : (i+1)*px_s, j*py_s + 1 : (j+1)*py_s, offset ] = np.array(X[i*px_s + 1 : (i+1)*px_s, j*py_s + 1 : (j+1)*py_s])\n",
    "        # x1_b0, x1_b1 = number_of_b0_b1(image_to_point(X1[:, :, offset]))\n",
    "\n",
    "        X2[:, :, offset] = X\n",
    "        X2[ i*px_s : (i+1)*px_s + 1, j*py_s + 1: (j+1)*py_s, offset ] = 255\n",
    "        x2_b0, x2_b1 = number_of_b0_b1(image_to_point(X2[:, :, offset]))\n",
    "\n",
    "        X1_U_X2[:, :, offset] = X\n",
    "        X1_U_X2[i*px_s : (i+1)*px_s + 1, j*py_s : (j+1)*py_s + 1, offset] = 255\n",
    "        X1_U_X2[i*px_s + 1 : (i+1)*px_s, j*py_s + 1 : (j+1)*py_s, offset] = X1[i*px_s + 1 : (i+1)*px_s, j*py_s + 1 : (j+1)*py_s, offset]\n",
    "        # u_b0, u_b1 = number_of_b0_b1(image_to_point(X1_U_X2[:, :, offset]))\n",
    "\n",
    "        if(x_b1 < x2_b1):\n",
    "          olg[i, j] += 1\n",
    "          Y[i*px_s : (i+1)*px_s + 1, j*py_s + 1: (j+1)*py_s] = X[i*px_s : (i+1)*px_s + 1, j*py_s + 1: (j+1)*py_s]\n",
    "        # cv2.imwrite(f\"./image_X1_{offset}.png\", X1[:,:,offset])\n",
    "        # cv2.imwrite(f\"./image_X2_{offset}.png\", X2[:,:,offset])\n",
    "        # cv2.imwrite(f\"./image_X1UX2_{offset}.png\", X1_U_X2[:,:,offset])\n",
    "\n",
    "        offset += 1\n",
    "    return lg,olg, Y"
   ]
  },
  {
   "cell_type": "code",
   "execution_count": 9,
   "metadata": {},
   "outputs": [],
   "source": [
    "img = cv2.imread('./images/finger_print.png')\n",
    "img = cv2.cvtColor(img,cv2.COLOR_BGR2GRAY)\n",
    "ret,X = cv2.threshold(img,70,255,cv2.THRESH_BINARY)"
   ]
  },
  {
   "cell_type": "code",
   "execution_count": 10,
   "metadata": {},
   "outputs": [
    {
     "data": {
      "image/png": "[encoded data removed]",
      "text/plain": [
       "<Figure size 432x288 with 1 Axes>"
      ]
     },
     "metadata": {
      "needs_background": "light"
     },
     "output_type": "display_data"
    }
   ],
   "source": [
    "fig1, ax1 = plt.subplots()\n",
    "ax1.axis('off')\n",
    "ax1.imshow(X, cmap='Greys');"
   ]
  },
  {
   "cell_type": "code",
   "execution_count": 11,
   "metadata": {},
   "outputs": [
    {
     "name": "stderr",
     "output_type": "stream",
     "text": []
    }
   ],
   "source": [
    "lg_num, olg_num = local_merging_number(X, 30, 30, \"croped\")"
   ]
  },
  {
   "cell_type": "code",
   "execution_count": null,
   "metadata": {},
   "outputs": [
    {
     "data": {
      "image/png": "[encoded data removed]",
      "text/plain": [
       "<Figure size 432x288 with 2 Axes>"
      ]
     },
     "metadata": {
      "needs_background": "light"
     },
     "output_type": "display_data"
    }
   ],
   "source": [
    "fig2, ax2 = plt.subplots()\n",
    "im2 = ax2.imshow(lg_num, cmap='inferno', vmin=0)\n",
    "plt.colorbar(im2);"
   ]
  },
  {
   "cell_type": "code",
   "execution_count": null,
   "metadata": {},
   "outputs": [],
   "source": []
  }
 ],
 "metadata": {
  "kernelspec": {
   "display_name": "Python 3",
   "language": "python",
   "name": "python3"
  },
  "language_info": {
   "codemirror_mode": {
    "name": "ipython",
    "version": 3
   },
   "file_extension": ".py",
   "mimetype": "text/x-python",
   "name": "python",
   "nbconvert_exporter": "python",
   "pygments_lexer": "ipython3",
   "version": "3.8.10"
  },
  "orig_nbformat": 4,
  "vscode": {
   "interpreter": {
    "hash": "916dbcbb3f70747c44a77c7bcd40155683ae19c65e1c03b4aa3499c5328201f1"
   }
  }
 },
 "nbformat": 4,
 "nbformat_minor": 2
}
